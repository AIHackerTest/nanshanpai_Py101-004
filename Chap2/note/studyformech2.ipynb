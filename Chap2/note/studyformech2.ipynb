{
 "cells": [
  {
   "cell_type": "markdown",
   "metadata": {},
   "source": [
    "# studyformech2"
   ]
  },
  {
   "cell_type": "markdown",
   "metadata": {},
   "source": [
    "### 最小mvp\n",
    "\n",
    "        功能最小模型功能最小是从数据源下载天气数据提供给用户查询\n",
    "        \n",
    "        程序最小模型 获得天气API数据源，下载并存成字典，用户端查询 函数关键词是 requests()对网页的操作和字典，列表的方法。\n",
    "        \n",
    "        \n",
    "## 程序任务        \n",
    "\n",
    "        任务变成了获取的数据源API和利用requests()函数对 web 操作\n",
    "        \n",
    "        通过注册API获得了使用权限，该API的数据结构，支持json结构的返回数据。\n",
    "        \n",
    "        函数requests 的方法可以通过 dir(requests)获得 重要的是get, post等\n",
    "        \n",
    "        \n",
    "        "
   ]
  },
  {
   "cell_type": "code",
   "execution_count": 21,
   "metadata": {},
   "outputs": [
    {
     "name": "stdout",
     "output_type": "stream",
     "text": [
      "{'results': [{'location': {'id': 'WX4FBXXFKE4F', 'name': '北京', 'country': 'CN', 'path': '北京,北京,中国', 'timezone': 'Asia/Shanghai', 'timezone_offset': '+08:00'}, 'now': {'text': '阴', 'code': '9', 'temperature': '24'}, 'last_update': '2017-08-26T22:50:00+08:00'}]}\n"
     ]
    }
   ],
   "source": [
    "import requests\n",
    "\n",
    "\n",
    "url = \"https://api.seniverse.com/v3/weather/now.json?key=kelsy6uu0gufudjz&location=beijing&language=zh-Hans&unit=c\"\n",
    "\n",
    "r = requests.get(url)\n",
    "print(r.json())"
   ]
  },
  {
   "cell_type": "markdown",
   "metadata": {},
   "source": [
    "## 历史记录存入和提取\n",
    "\n",
    "    因为数据不是key: value 的简单结构所以存入历史记录时，并没有用dict.update  而是用的list.append（）把多个数值用逗号隔开存入而后\n",
    "        \n",
    "    用split（）的方法提取出来。\n",
    "        "
   ]
  },
  {
   "cell_type": "markdown",
   "metadata": {},
   "source": [
    "## 关于城市变量的输入\n",
    "\n",
    "    由于没有从网站下载该api支持的城市列表，所以在 用户进行输入查询信息时，没法对其进行城市列表匹配查询，所以当用户输入乱码总会有错误提示，最后          用到了 try: except语句。"
   ]
  },
  {
   "cell_type": "markdown",
   "metadata": {},
   "source": [
    "## 关于 if __name__ == '__main__'\n",
    "\n",
    "    一直没有用这个判断语句，只是用google查清其意思，就是每个模块都有一个内置的name  ,如果模块独立执行，那name 就是main,然而如果发生了调用，其名称就不再是main,变成了文件.py的文件名。  所以当导入使用时这句话是不成立的  ，可以用该语句遮蔽模块中不希望在主程序中执行的部分。\n",
    "    \n",
    "## 用函数写程序\n",
    "\n",
    "    用函数写程序，要注意的是**变量局部或是全局的**  输出数值还是只是执行语句  即使函数没有return 数值python还是按照程序的先后顺序执行了并不是\n",
    "    \n",
    "    调用的时候才执行。在调用时可以用if __name == '__main__'语句。\n",
    "    \n",
    "    "
   ]
  },
  {
   "cell_type": "code",
   "execution_count": 34,
   "metadata": {},
   "outputs": [
    {
     "data": {
      "text/plain": [
       "10"
      ]
     },
     "execution_count": 34,
     "metadata": {},
     "output_type": "execute_result"
    }
   ],
   "source": [
    "x = 20\n",
    "def abc():\n",
    "    x = 0\n",
    "    x += 10\n",
    "    return x\n",
    "abc()\n",
    "\n",
    "\n"
   ]
  },
  {
   "cell_type": "code",
   "execution_count": 35,
   "metadata": {},
   "outputs": [
    {
     "name": "stdout",
     "output_type": "stream",
     "text": [
      "20\n"
     ]
    }
   ],
   "source": [
    "print(x)"
   ]
  },
  {
   "cell_type": "code",
   "execution_count": 36,
   "metadata": {},
   "outputs": [
    {
     "ename": "UnboundLocalError",
     "evalue": "local variable 'x' referenced before assignment",
     "output_type": "error",
     "traceback": [
      "\u001b[1;31m---------------------------------------------------------------------------\u001b[0m",
      "\u001b[1;31mUnboundLocalError\u001b[0m                         Traceback (most recent call last)",
      "\u001b[1;32m<ipython-input-36-031f490cdacb>\u001b[0m in \u001b[0;36m<module>\u001b[1;34m()\u001b[0m\n\u001b[0;32m      3\u001b[0m     \u001b[0mx\u001b[0m \u001b[1;33m+=\u001b[0m \u001b[1;36m10\u001b[0m\u001b[1;33m\u001b[0m\u001b[0m\n\u001b[0;32m      4\u001b[0m     \u001b[1;32mreturn\u001b[0m \u001b[0mx\u001b[0m\u001b[1;33m\u001b[0m\u001b[0m\n\u001b[1;32m----> 5\u001b[1;33m \u001b[0mabc\u001b[0m\u001b[1;33m(\u001b[0m\u001b[1;33m)\u001b[0m\u001b[1;33m\u001b[0m\u001b[0m\n\u001b[0m",
      "\u001b[1;32m<ipython-input-36-031f490cdacb>\u001b[0m in \u001b[0;36mabc\u001b[1;34m()\u001b[0m\n\u001b[0;32m      1\u001b[0m \u001b[0mx\u001b[0m \u001b[1;33m=\u001b[0m \u001b[1;36m20\u001b[0m\u001b[1;33m\u001b[0m\u001b[0m\n\u001b[0;32m      2\u001b[0m \u001b[1;32mdef\u001b[0m \u001b[0mabc\u001b[0m\u001b[1;33m(\u001b[0m\u001b[1;33m)\u001b[0m\u001b[1;33m:\u001b[0m\u001b[1;33m\u001b[0m\u001b[0m\n\u001b[1;32m----> 3\u001b[1;33m     \u001b[0mx\u001b[0m \u001b[1;33m+=\u001b[0m \u001b[1;36m10\u001b[0m\u001b[1;33m\u001b[0m\u001b[0m\n\u001b[0m\u001b[0;32m      4\u001b[0m     \u001b[1;32mreturn\u001b[0m \u001b[0mx\u001b[0m\u001b[1;33m\u001b[0m\u001b[0m\n\u001b[0;32m      5\u001b[0m \u001b[0mabc\u001b[0m\u001b[1;33m(\u001b[0m\u001b[1;33m)\u001b[0m\u001b[1;33m\u001b[0m\u001b[0m\n",
      "\u001b[1;31mUnboundLocalError\u001b[0m: local variable 'x' referenced before assignment"
     ]
    }
   ],
   "source": [
    "# 这是错误的写法\n",
    "x = 20\n",
    "def abc():\n",
    "    x += 10\n",
    "    return x\n",
    "abc()"
   ]
  },
  {
   "cell_type": "markdown",
   "metadata": {},
   "source": [
    "即要想使用同名变量 在函数中需要给变量重新赋值才可以使用"
   ]
  }
 ],
 "metadata": {
  "kernelspec": {
   "display_name": "Python 3",
   "language": "python",
   "name": "python3"
  },
  "language_info": {
   "codemirror_mode": {
    "name": "ipython",
    "version": 3
   },
   "file_extension": ".py",
   "mimetype": "text/x-python",
   "name": "python",
   "nbconvert_exporter": "python",
   "pygments_lexer": "ipython3",
   "version": "3.6.1"
  }
 },
 "nbformat": 4,
 "nbformat_minor": 2
}
