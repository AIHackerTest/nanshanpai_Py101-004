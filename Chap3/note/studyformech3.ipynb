{
 "cells": [
  {
   "cell_type": "markdown",
   "metadata": {},
   "source": [
    "# studyformech3"
   ]
  },
  {
   "cell_type": "markdown",
   "metadata": {},
   "source": [
    "# 安装\n",
    "\n",
    "   安装FLASK 并不困难，为了灵活的使用flask和个版本python我先安装了virtualenv,用这个软件可以重建各种python版本的开发平台，并且不用被环境\n",
    "   \n",
    "   路径所束缚，但安装过程对于windows用户来说，**启动时运行activate要用CMD而非powershell要切记**，而且运行flask方式也不同，在windows下是\n",
    "   \n",
    "   ** set flask_app=hello.py  flask run**\n",
    "       \n"
   ]
  },
  {
   "cell_type": "markdown",
   "metadata": {},
   "source": [
    "# 探索学习\n",
    "\n",
    "   因为这节课背景知识少，所以理解起来有些抽象，通过看官方文档有了些思路，但实践起来却困难重重，**原因在于在新的平台下，没有建立反馈机制，一再的自循环**。这次是很好的经验，面对新的问题，自己到底是怎样做的？\n",
    "    \n",
    "  1. 建立自我反馈机制，避免陷入思考瘫痪状态。\n",
    "   \n",
    "  2. 经过实践理清头绪，不明白的点可以通过清晰的定义问题轻松的用GOOGLE找到答案。\n",
    "  \n",
    "  3. 尽量的查官方文档，和同学们在一起，如果是 一个人在探索是不是已经放弃了。\n",
    "  \n",
    "所以 查阅官方文档 + 建立反馈机制 + 定义问题 + GOOGLE + 共同学习的氛围是很好的经验。\n",
    "    "
   ]
  },
  {
   "cell_type": "markdown",
   "metadata": {},
   "source": [
    "# 程序部分\n",
    "\n",
    "HTML 表单和按钮是重要部分，这在教程中都可以找见也可以理解，要注意的是字符的类型在head里定义chaset = uft-8,语言设定 content = “zh-cn”\n",
    "按钮的类型和动作设定 为提交，通过flask 官方文档的例子可以看出如何获取，表单的值，@app('/', methods= [)"
   ]
  },
  {
   "cell_type": "code",
   "execution_count": null,
   "metadata": {
    "collapsed": true
   },
   "outputs": [],
   "source": [
    "@app.route('/', methods=['POST', 'GET'])  #建立路由和获取方式\n",
    "def index():\n",
    "    if \"chaxunbtn\"  in request.form:  #判断按钮是否被点击\n",
    "        return redirect(url_for('chaxun')) #url跳转本来没想着跳转，但list的显示通过页面显示一直存在。url里面是函数名称，而非路由定义的路径。\n",
    "    \n",
    "@app.route('/chaxun', methods =['POST', 'GET'])\n",
    "def chaxun():\n",
    "    \n",
    "    return render render_template('chaxun.html', var=var.......) #  渲染并返回到页面。\n",
    "        "
   ]
  },
  {
   "cell_type": "code",
   "execution_count": null,
   "metadata": {
    "collapsed": true
   },
   "outputs": [],
   "source": [
    "html部分\n",
    "关键是{{var}} {% var %}"
   ]
  },
  {
   "cell_type": "markdown",
   "metadata": {},
   "source": [
    "关键词 路由设定，特别是methods 方式要与html中的method一致，html里表单的method='POST'post要注意大小写。\n",
    "\n",
    "关键词 获取点击信息，由于表单返回时实时更新的字典，所以可以用键值访问，也可以if  in 访问\n",
    "\n",
    "关键词 html中的变量， 在渲染var=var和{{var}}关联，而且{%%}里也能实现条件判断和for循环。\n",
    "\n",
    "关键词 redirect跳转,  转向时url_fo里面是函数，而非路由名称。\n"
   ]
  }
 ],
 "metadata": {
  "kernelspec": {
   "display_name": "Python 3",
   "language": "python",
   "name": "python3"
  },
  "language_info": {
   "codemirror_mode": {
    "name": "ipython",
    "version": 3
   },
   "file_extension": ".py",
   "mimetype": "text/x-python",
   "name": "python",
   "nbconvert_exporter": "python",
   "pygments_lexer": "ipython3",
   "version": "3.6.1"
  }
 },
 "nbformat": 4,
 "nbformat_minor": 2
}
