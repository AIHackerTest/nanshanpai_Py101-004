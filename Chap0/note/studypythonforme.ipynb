{
 "cells": [
  {
   "cell_type": "markdown",
   "metadata": {},
   "source": [
    "# 教六个月前的自己学python"
   ]
  },
  {
   "cell_type": "markdown",
   "metadata": {},
   "source": [
    "**意义**\n",
    "\n",
    "我在寻找学习编程的意义，找到自我探寻的动机，寻找一种稳定生活的另外一种可能，或工作或生活或未来\n",
    "\n",
    "自己会编程而别人不会那是一件很酷的事情，成为一名黑客是兴趣所在。\n",
    "\n",
    "\n",
    "**方法**\n",
    "\n",
    "利用认知学习的方法和学习程序的客观规律\n",
    "\n",
    "1. 语言上分清逻辑和语法，把基本的知识点，先熟悉，通过敲代码，把变量，控制语句，循环语句，算术运算和逻辑运算\n",
    "\n",
    "2. 上手敲代码直接输出学习，配置好学习的环境，让输出有及时的反馈。\n",
    "\n",
    "3. 不但写代码还有给代码上写出注释，不仅仅是理解，更是让一些无法呈现的知识用自己能懂得语言输出，把隐性的东西注释出来。\n",
    "\n",
    "4. 利用结果反推过程，写下了对照教材，看有和不同之处\n",
    "\n",
    "5. 充分利用资源，一官方文档，二战友的知识方法。\n",
    "\n",
    "6. 利用执行意图，掌握背景知识，利用类比多找应用的机会抓典型例题加深理解。\n",
    "\n",
    "**实践**\n",
    "**诸多关键知识点**\n",
    "\n",
    "\n",
    "\n",
    "## 打印"
   ]
  },
  {
   "cell_type": "code",
   "execution_count": 2,
   "metadata": {},
   "outputs": [
    {
     "name": "stdout",
     "output_type": "stream",
     "text": [
      "hello word\n"
     ]
    }
   ],
   "source": [
    "print(\"hello word\")"
   ]
  },
  {
   "cell_type": "markdown",
   "metadata": {},
   "source": [
    "## 变量定义 \n",
    "\n",
    "不能以数字开头，不能有-等符号，就是字母与下划线的联结 ，把等号右边的值赋值给左边的变量"
   ]
  },
  {
   "cell_type": "code",
   "execution_count": 1,
   "metadata": {},
   "outputs": [
    {
     "name": "stdout",
     "output_type": "stream",
     "text": [
      "1\n"
     ]
    }
   ],
   "source": [
    "bian_liang = 1\n",
    "print(bian_liang)\n"
   ]
  },
  {
   "cell_type": "markdown",
   "metadata": {},
   "source": [
    "## 算术运算"
   ]
  },
  {
   "cell_type": "code",
   "execution_count": 3,
   "metadata": {},
   "outputs": [
    {
     "data": {
      "text/plain": [
       "-13.833333333333332"
      ]
     },
     "execution_count": 3,
     "metadata": {},
     "output_type": "execute_result"
    }
   ],
   "source": [
    "10 + 2 - 5 * 6 + 25 / 6 - 36 %6"
   ]
  },
  {
   "cell_type": "markdown",
   "metadata": {},
   "source": [
    "## 控制语句if \n",
    "\n",
    "if 和elif都是 条件成立的充分条件，所以整体看if,elif,else是对一个事件的判断更好理解。"
   ]
  },
  {
   "cell_type": "code",
   "execution_count": 4,
   "metadata": {},
   "outputs": [
    {
     "name": "stdout",
     "output_type": "stream",
     "text": [
      "a<b\n"
     ]
    }
   ],
   "source": [
    "a = 2\n",
    "b = 5\n",
    "if a > b:\n",
    "    print(\"a>b\")\n",
    "elif a<b:\n",
    "    print(\"a<b\")\n",
    "else:\n",
    "    print(\"ok\")"
   ]
  },
  {
   "cell_type": "markdown",
   "metadata": {},
   "source": [
    "## 循环语句 for 和while"
   ]
  },
  {
   "cell_type": "code",
   "execution_count": 5,
   "metadata": {},
   "outputs": [
    {
     "name": "stdout",
     "output_type": "stream",
     "text": [
      "1\n",
      "2\n",
      "3\n",
      "4\n",
      "5\n"
     ]
    }
   ],
   "source": [
    "number = [1, 2, 3, 4, 5]\n",
    "\n",
    "for i in number:\n",
    "    print(i)"
   ]
  },
  {
   "cell_type": "code",
   "execution_count": 16,
   "metadata": {},
   "outputs": [
    {
     "name": "stdout",
     "output_type": "stream",
     "text": [
      "1\n",
      "2\n",
      "3\n",
      "4\n",
      "5\n"
     ]
    }
   ],
   "source": [
    "i = 0\n",
    "\n",
    "while i < 5:\n",
    "    i += 1\n",
    "    print(i)\n",
    "        \n",
    "        \n",
    "    "
   ]
  },
  {
   "cell_type": "markdown",
   "metadata": {},
   "source": [
    "## 函数 "
   ]
  },
  {
   "cell_type": "code",
   "execution_count": 17,
   "metadata": {},
   "outputs": [
    {
     "data": {
      "text/plain": [
       "6"
      ]
     },
     "execution_count": 17,
     "metadata": {},
     "output_type": "execute_result"
    }
   ],
   "source": [
    "def play_game(a,b):\n",
    "    \n",
    "    return a*b\n",
    "\n",
    "play_game(2,3)\n",
    "    "
   ]
  },
  {
   "cell_type": "markdown",
   "metadata": {},
   "source": [
    "## 类"
   ]
  },
  {
   "cell_type": "code",
   "execution_count": 28,
   "metadata": {},
   "outputs": [
    {
     "name": "stdout",
     "output_type": "stream",
     "text": [
      "red\n",
      "white\n"
     ]
    }
   ],
   "source": [
    "class thegame(object):\n",
    "    \n",
    "    def __init__(self,clor):\n",
    "            self.clor = clor\n",
    "            \n",
    "    def playgame(self):\n",
    "        self.clor = ['red','white']\n",
    "        for i in self.clor:\n",
    "            print(i)\n",
    "        \n",
    "        \n",
    "person = thegame(\"aaa\")\n",
    "\n",
    "person.playgame()"
   ]
  },
  {
   "cell_type": "code",
   "execution_count": null,
   "metadata": {
    "collapsed": true
   },
   "outputs": [],
   "source": []
  }
 ],
 "metadata": {
  "kernelspec": {
   "display_name": "Python 3",
   "language": "python",
   "name": "python3"
  },
  "language_info": {
   "codemirror_mode": {
    "name": "ipython",
    "version": 3
   },
   "file_extension": ".py",
   "mimetype": "text/x-python",
   "name": "python",
   "nbconvert_exporter": "python",
   "pygments_lexer": "ipython3",
   "version": "3.6.1"
  }
 },
 "nbformat": 4,
 "nbformat_minor": 2
}
