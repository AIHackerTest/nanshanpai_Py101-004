{
 "cells": [
  {
   "cell_type": "markdown",
   "metadata": {},
   "source": [
    "# study python for me chap1"
   ]
  },
  {
   "cell_type": "markdown",
   "metadata": {},
   "source": [
    "### 探索\n",
    "\n",
    "1. 解题编程的过程有点像数学解题的过程，先对题目进行结构，已知条件，未知，和要达成的目标结果。多亏前面笨法学python练习，自然的进行了启发式的探\n",
    "\n",
    "   索，文件操作，文件读取，甚至字符串的split，接下来是循环语句，再加些函数就应该能实现。\n",
    "   \n",
    "   \n",
    "2. 实际我想进行的不是把文件复制，而是能否down下来，而github上的文件，不像其他网站那么好处理，只是有一个函数是reguests 能get到网页，在 \n",
    "\n",
    "   stackoverflow网站上有类似的思路，比如在HTTP链接中加入raw,或者用户登录方式获取，最终以输出404报错而结束。\n",
    "   \n",
    "   \n",
    "3. 在查询官方文档问答时发现，有些程序可以看懂了，而且写的代码特别简单，反而效率很高，比如在查函数的帮助时可以这样，获得list函数的方法\n",
    "\n"
   ]
  },
  {
   "cell_type": "code",
   "execution_count": 4,
   "metadata": {},
   "outputs": [
    {
     "data": {
      "text/plain": [
       "['append',\n",
       " 'clear',\n",
       " 'copy',\n",
       " 'count',\n",
       " 'extend',\n",
       " 'index',\n",
       " 'insert',\n",
       " 'pop',\n",
       " 'remove',\n",
       " 'reverse',\n",
       " 'sort']"
      ]
     },
     "execution_count": 4,
     "metadata": {},
     "output_type": "execute_result"
    }
   ],
   "source": [
    "l = []\n",
    "dir(l)\n",
    "[r for r in dir(l) if '_' not in r]"
   ]
  },
  {
   "cell_type": "code",
   "execution_count": 5,
   "metadata": {},
   "outputs": [
    {
     "name": "stdout",
     "output_type": "stream",
     "text": [
      "Help on built-in function append:\n",
      "\n",
      "append(...) method of builtins.list instance\n",
      "    L.append(object) -> None -- append object to end\n",
      "\n"
     ]
    }
   ],
   "source": [
    "help(l.append)"
   ]
  },
  {
   "cell_type": "markdown",
   "metadata": {},
   "source": [
    "   在读取文件后还是在思考是readline() 还是realines() 但当看到 文件打开就直接for语句提取时，题目其实是读取字符串的意思。之后for ...in , if in\n",
    "   \n",
    "   \n",
    "   or not in ，就豁然开朗了。对变量的理解也不是很透彻，在调试时对全局和局部有些模糊，在各个模块都用到同一个参数，没有很好的解决，其实应该用函\n",
    "   \n",
    "   \n",
    "   数和类的方法重新把，读取写一遍。"
   ]
  },
  {
   "cell_type": "code",
   "execution_count": null,
   "metadata": {
    "collapsed": true
   },
   "outputs": [],
   "source": [
    "with open() as file:\n",
    "    for s_tr in file:"
   ]
  },
  {
   "cell_type": "markdown",
   "metadata": {},
   "source": [
    "### 工具\n",
    "\n",
    "1. 工具一定要高效稳定，因为没用mac系列，所以写代码还没好好用上atom，mac的优势就是所见即所得，只能用note++代替，在文本和powershell之间切换。\n",
    "\n",
    "\n",
    "2. 网络一定要用google,真的是另外的一个世界，效率高，它好像知道你要的内容，VPN!!!"
   ]
  },
  {
   "cell_type": "markdown",
   "metadata": {},
   "source": [
    "### 方法\n",
    "\n",
    "1. mvp分解，启发式探索，高效利用工具，不懂得地方应该问问题。特别是身边的小伙伴，这点做的还不够好。"
   ]
  }
 ],
 "metadata": {
  "kernelspec": {
   "display_name": "Python 3",
   "language": "python",
   "name": "python3"
  },
  "language_info": {
   "codemirror_mode": {
    "name": "ipython",
    "version": 3
   },
   "file_extension": ".py",
   "mimetype": "text/x-python",
   "name": "python",
   "nbconvert_exporter": "python",
   "pygments_lexer": "ipython3",
   "version": "3.6.1"
  }
 },
 "nbformat": 4,
 "nbformat_minor": 2
}
